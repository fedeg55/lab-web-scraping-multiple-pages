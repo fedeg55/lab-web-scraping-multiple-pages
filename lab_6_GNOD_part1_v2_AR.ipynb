{
 "cells": [
  {
   "cell_type": "code",
   "execution_count": 1,
   "metadata": {},
   "outputs": [],
   "source": [
    "from bs4 import BeautifulSoup\n",
    "import requests\n",
    "import pandas as pd"
   ]
  },
  {
   "cell_type": "markdown",
   "metadata": {},
   "source": [
    "1. Scrape the current top 100 songs and their respective artists, and put the information into a pandas dataframe."
   ]
  },
  {
   "cell_type": "code",
   "execution_count": 2,
   "metadata": {},
   "outputs": [],
   "source": [
    "url = 'https://www.popvortex.com/music/charts/top-100-songs.php'"
   ]
  },
  {
   "cell_type": "code",
   "execution_count": 3,
   "metadata": {},
   "outputs": [
    {
     "data": {
      "text/plain": [
       "200"
      ]
     },
     "execution_count": 3,
     "metadata": {},
     "output_type": "execute_result"
    }
   ],
   "source": [
    "response = requests.get(url)\n",
    "response.status_code # 200 status code means OK!"
   ]
  },
  {
   "cell_type": "code",
   "execution_count": 4,
   "metadata": {},
   "outputs": [],
   "source": [
    "soup = BeautifulSoup(response.content, \"html.parser\")"
   ]
  },
  {
   "cell_type": "code",
   "execution_count": 5,
   "metadata": {},
   "outputs": [],
   "source": [
    "#soup"
   ]
  },
  {
   "cell_type": "code",
   "execution_count": 6,
   "metadata": {},
   "outputs": [],
   "source": [
    "#print(soup.prettify())"
   ]
  },
  {
   "cell_type": "code",
   "execution_count": 7,
   "metadata": {},
   "outputs": [],
   "source": [
    "#soup.select(\".title-artist\")"
   ]
  },
  {
   "cell_type": "code",
   "execution_count": 8,
   "metadata": {},
   "outputs": [
    {
     "name": "stdout",
     "output_type": "stream",
     "text": [
      "['Jimmy Buffett', 'Jimmy Buffett', 'Oliver Anthony Music', 'Jimmy Buffett', 'Smash Mouth', 'Jimmy Buffett', 'Doja Cat', 'Zach Bryan', 'Jimmy Buffett', 'Jimmy Buffett', 'Luke Combs', 'Paul Russell', 'Nicki Minaj', 'Jimmy Buffett', 'Miley Cyrus', 'Taylor Swift', 'Morgan Wallen', 'Oliver Anthony Music', 'Gary Wright', 'Jason Aldean', 'Jelly Roll', 'Dua Lipa', 'Jimmy Buffett', 'Smash Mouth', 'Chris Stapleton', 'Lainey Wilson', 'Oliver Anthony Music', 'Smash Mouth', 'Smash Mouth', 'Jimmy Buffett', 'Alan Jackson', 'Morgan Wallen', 'Smash Mouth', 'Jelly Roll', 'Jimmy Buffett', 'Nickelback', 'Miley Cyrus', 'Oliver Anthony Music', 'Gary Wright', 'Jimmy Buffett', 'Bailey Zimmerman', 'Fleetwood Mac', 'Smash Mouth', 'Jimmy Buffett', 'Rema & Selena Gomez', 'Wayland', 'Radiant Melodies', 'Miley Cyrus', 'Timbaland, Nelly Furtado & Justin Timberlake', 'Teddy Swims', 'Olivia Rodrigo', 'Shinedown', 'Trump Latinos', 'Jimmy Buffett & Martina McBride', 'Crosby, Stills & Nash', 'Billie Eilish', 'Nickelback', 'Creedence Clearwater Revival', 'Will Dempsey', 'Vy Napi', 'Radiant Melodies', 'Jelly Roll', 'Nickelback', 'Jimmy Buffett', 'Smash Mouth', 'Rod Stewart', 'Zac Brown Band', 'Oliver Anthony Music', 'Luke Combs', 'Nickelback', 'Selena Gomez', 'Jimmy Buffett', 'Chicago', 'Taylor Swift', 'HARDY', 'Tyler Childers', 'Kane Brown', 'Jimmy Buffett', 'Metallica', 'Tom MacDonald & Adam Calhoun', 'Chris Stapleton', 'Chicago', 'Nicki Minaj & Ice Spice', 'Zach Bryan', 'Morgan Wallen', 'Jimmy Buffett', 'Pretenders', 'Fall Out Boy', 'Fleetwood Mac', 'Fleetwood Mac', 'David Kushner', 'Radiant Melodies', 'Oliver Anthony Music', 'Morgan Wallen', 'Taylor Swift', 'Vy Napi', 'Norman Greenbaum', 'SZA', 'Noah Kahan & Post Malone', 'Olivia Rodrigo']\n",
      "['Margaritaville', 'Come Monday', 'Rich Men North of Richmond', 'Cheeseburger In Paradise', 'All Star', 'Changes In Latitudes, Changes In Attitudes', 'Paint The Town Red', 'I Remember Everything (feat. Kacey Musgraves)', 'A Pirate Looks at Forty', \"It's Five O'Clock Somewhere (Live)\", 'Fast Car', 'Lil Boo Thang', 'Last Time I Saw You', 'Son of a Son of a Sailor', 'Used To Be Young', 'Cruel Summer', 'Last Night', 'I Want to go Home', 'Dream Weaver', 'Try That In A Small Town', 'Need A Favor', 'Dance The Night', 'Fins', \"Walkin' On the Sun\", 'White Horse', 'Watermelon Moonshine', '90 some Chevy', \"I'm a Believer\", \"Walkin' on the Sun\", 'Southern Cross (Live)', \"It's Five O'Clock Somewhere (with Jimmy Buffett)\", 'Thinkin’ Bout Me', 'All Star', 'Save Me (with Lainey Wilson)', \"Why Don't We Get Drunk\", 'Rockstar', 'Flowers', 'Aint Gotta Dollar', 'Love Is Alive', 'Brown Eyed Girl (Live)', 'Religiously', 'Dreams', \"Walkin' On the Sun\", 'Volcano', 'Calm Down', 'Indiana Jones', 'Let My Heart Stop Missing Now', 'Used To Be Young', 'Keep Going Up', 'Lose Control', 'vampire', 'A Symptom Of Being Human', 'Latinos For Trump', 'Trip Around the Sun', 'Southern Cross', 'What Was I Made For? [From The Motion Picture \"Barbie\"]', 'How You Remind Me', 'Have You Ever Seen the Rain', 'Beat You There', 'Suddenly, One Day, There Is a Pink Love That Brings Good News', 'The One Who Brought the Dreams Away', 'Son Of A Sinner', 'Far Away', 'He Went to Paris', \"I'm a Believer (Radio)\", 'Forever Young', 'Knee Deep (feat. Jimmy Buffett) [Greatest Hits Version]', 'Ive Got to Get Sober', 'Love You Anyway', 'Photograph', 'Single Soon', 'Brown Eyed Girl', \"Hard to Say I'm Sorry / Get Away\", 'Anti-Hero', 'TRUCK BED', 'In Your Love', 'Bury Me in Georgia (Single Edit)', 'Come Monday', 'Enter Sandman', 'Whiteboyz', 'Tennessee Whiskey', \"You're the Inspiration\", 'Barbie World (with Aqua)', \"Something in the Orange (Z&E's Version)\", 'Everything I Love', 'One Particular Harbour', \"I'll Stand By You\", 'We Didn’t Start The Fire', 'Gypsy', 'Rhiannon', 'Daylight', 'Who Else Is Holding On To Anyone In the Afternoon?', 'I Want To Go Home (live)', 'Thought You Should Know', 'august', \"Don't Keep It In Your Heart, There's Nothing Happy About It\", 'Spirit In the Sky', 'Snooze', 'Dial Drunk', 'bad idea right?']\n"
     ]
    }
   ],
   "source": [
    "title = []\n",
    "artist = []\n",
    "\n",
    "num_iter = len(soup.select(\".title-artist\"))\n",
    "tClist = soup.select(\".title-artist\")\n",
    "\n",
    "# iterate through the result set and retrive all the data\n",
    "for i in range(num_iter):\n",
    "    title.append(tClist[i].find(class_=\"title\").get_text())\n",
    "    artist.append(tClist[i].find(class_=\"artist\").get_text())\n",
    "\n",
    "print(artist)\n",
    "print(title)\n",
    "\n",
    "\n",
    "\n",
    "\n"
   ]
  },
  {
   "cell_type": "code",
   "execution_count": 9,
   "metadata": {},
   "outputs": [],
   "source": [
    "songs = pd.DataFrame({\"artist\":artist,\n",
    "                       \"title\":title,\n",
    "                      })"
   ]
  },
  {
   "cell_type": "code",
   "execution_count": 10,
   "metadata": {},
   "outputs": [
    {
     "data": {
      "text/html": [
       "<div>\n",
       "<style scoped>\n",
       "    .dataframe tbody tr th:only-of-type {\n",
       "        vertical-align: middle;\n",
       "    }\n",
       "\n",
       "    .dataframe tbody tr th {\n",
       "        vertical-align: top;\n",
       "    }\n",
       "\n",
       "    .dataframe thead th {\n",
       "        text-align: right;\n",
       "    }\n",
       "</style>\n",
       "<table border=\"1\" class=\"dataframe\">\n",
       "  <thead>\n",
       "    <tr style=\"text-align: right;\">\n",
       "      <th></th>\n",
       "      <th>artist</th>\n",
       "      <th>title</th>\n",
       "    </tr>\n",
       "  </thead>\n",
       "  <tbody>\n",
       "    <tr>\n",
       "      <th>0</th>\n",
       "      <td>Jimmy Buffett</td>\n",
       "      <td>Margaritaville</td>\n",
       "    </tr>\n",
       "    <tr>\n",
       "      <th>1</th>\n",
       "      <td>Jimmy Buffett</td>\n",
       "      <td>Come Monday</td>\n",
       "    </tr>\n",
       "    <tr>\n",
       "      <th>2</th>\n",
       "      <td>Oliver Anthony Music</td>\n",
       "      <td>Rich Men North of Richmond</td>\n",
       "    </tr>\n",
       "    <tr>\n",
       "      <th>3</th>\n",
       "      <td>Jimmy Buffett</td>\n",
       "      <td>Cheeseburger In Paradise</td>\n",
       "    </tr>\n",
       "    <tr>\n",
       "      <th>4</th>\n",
       "      <td>Smash Mouth</td>\n",
       "      <td>All Star</td>\n",
       "    </tr>\n",
       "    <tr>\n",
       "      <th>...</th>\n",
       "      <td>...</td>\n",
       "      <td>...</td>\n",
       "    </tr>\n",
       "    <tr>\n",
       "      <th>95</th>\n",
       "      <td>Vy Napi</td>\n",
       "      <td>Don't Keep It In Your Heart, There's Nothing H...</td>\n",
       "    </tr>\n",
       "    <tr>\n",
       "      <th>96</th>\n",
       "      <td>Norman Greenbaum</td>\n",
       "      <td>Spirit In the Sky</td>\n",
       "    </tr>\n",
       "    <tr>\n",
       "      <th>97</th>\n",
       "      <td>SZA</td>\n",
       "      <td>Snooze</td>\n",
       "    </tr>\n",
       "    <tr>\n",
       "      <th>98</th>\n",
       "      <td>Noah Kahan &amp; Post Malone</td>\n",
       "      <td>Dial Drunk</td>\n",
       "    </tr>\n",
       "    <tr>\n",
       "      <th>99</th>\n",
       "      <td>Olivia Rodrigo</td>\n",
       "      <td>bad idea right?</td>\n",
       "    </tr>\n",
       "  </tbody>\n",
       "</table>\n",
       "<p>100 rows × 2 columns</p>\n",
       "</div>"
      ],
      "text/plain": [
       "                      artist  \\\n",
       "0              Jimmy Buffett   \n",
       "1              Jimmy Buffett   \n",
       "2       Oliver Anthony Music   \n",
       "3              Jimmy Buffett   \n",
       "4                Smash Mouth   \n",
       "..                       ...   \n",
       "95                   Vy Napi   \n",
       "96          Norman Greenbaum   \n",
       "97                       SZA   \n",
       "98  Noah Kahan & Post Malone   \n",
       "99            Olivia Rodrigo   \n",
       "\n",
       "                                                title  \n",
       "0                                      Margaritaville  \n",
       "1                                         Come Monday  \n",
       "2                          Rich Men North of Richmond  \n",
       "3                            Cheeseburger In Paradise  \n",
       "4                                            All Star  \n",
       "..                                                ...  \n",
       "95  Don't Keep It In Your Heart, There's Nothing H...  \n",
       "96                                  Spirit In the Sky  \n",
       "97                                             Snooze  \n",
       "98                                         Dial Drunk  \n",
       "99                                    bad idea right?  \n",
       "\n",
       "[100 rows x 2 columns]"
      ]
     },
     "execution_count": 10,
     "metadata": {},
     "output_type": "execute_result"
    }
   ],
   "source": [
    "songs"
   ]
  },
  {
   "cell_type": "markdown",
   "metadata": {},
   "source": [
    "Lab 2: \n",
    "\n",
    "- Find other lists of hot songs on the internet and scrape them too: having a bigger pool of songs will be awesome!\n",
    "- Apply the same logic to other \"groups\" of songs: the best songs from a decade or from a country / culture / language / genre.\n",
    "- Wikipedia maintains a large collection of lists of songs: https://en.wikipedia.org/wiki/Lists_of_songs"
   ]
  },
  {
   "cell_type": "code",
   "execution_count": 11,
   "metadata": {},
   "outputs": [],
   "source": [
    "url = 'https://en.wikipedia.org/wiki/Lists_of_songs'"
   ]
  },
  {
   "cell_type": "code",
   "execution_count": 12,
   "metadata": {},
   "outputs": [
    {
     "data": {
      "text/plain": [
       "200"
      ]
     },
     "execution_count": 12,
     "metadata": {},
     "output_type": "execute_result"
    }
   ],
   "source": [
    "response = requests.get(url)\n",
    "response.status_code "
   ]
  },
  {
   "cell_type": "code",
   "execution_count": 13,
   "metadata": {},
   "outputs": [],
   "source": [
    "soup = BeautifulSoup(response.content, \"html.parser\")"
   ]
  },
  {
   "cell_type": "code",
   "execution_count": 14,
   "metadata": {},
   "outputs": [],
   "source": [
    "#soup"
   ]
  },
  {
   "cell_type": "code",
   "execution_count": 15,
   "metadata": {},
   "outputs": [
    {
     "data": {
      "text/plain": [
       "[<a href=\"/wiki/Christmas_music\" title=\"Christmas music\">Christmas music</a>]"
      ]
     },
     "execution_count": 15,
     "metadata": {},
     "output_type": "execute_result"
    }
   ],
   "source": [
    "prestab = soup.select('div:nth-of-type(3)>ul >li:nth-of-type(1) > a')\n",
    "prestab"
   ]
  },
  {
   "cell_type": "code",
   "execution_count": 16,
   "metadata": {},
   "outputs": [
    {
     "name": "stdout",
     "output_type": "stream",
     "text": [
      "/wiki/Christmas_music\n"
     ]
    }
   ],
   "source": [
    "for pr in prestab:\n",
    "    link = pr.get(\"href\")\n",
    "    print(link)"
   ]
  },
  {
   "cell_type": "code",
   "execution_count": 17,
   "metadata": {},
   "outputs": [
    {
     "name": "stdout",
     "output_type": "stream",
     "text": [
      "200\n"
     ]
    }
   ],
   "source": [
    "# send request\n",
    "url = \"https://en.wikipedia.org\" + link\n",
    "response = requests.get(url)\n",
    "print(response.status_code)\n",
    "\n",
    "# parse & store html\n",
    "soup = BeautifulSoup(response.content, \"html.parser\")\n",
    "soup1 = soup.select(\"table\")[3]"
   ]
  },
  {
   "cell_type": "code",
   "execution_count": 18,
   "metadata": {},
   "outputs": [],
   "source": [
    "#soup1"
   ]
  },
  {
   "cell_type": "code",
   "execution_count": 19,
   "metadata": {},
   "outputs": [],
   "source": [
    "import numpy as np "
   ]
  },
  {
   "cell_type": "code",
   "execution_count": 20,
   "metadata": {},
   "outputs": [
    {
     "name": "stdout",
     "output_type": "stream",
     "text": [
      "Song: [[\"Santa Claus Is Comin' to Town\"], ['Have Yourself a Merry Little Christmas'], ['Winter Wonderland'], ['Let It Snow! Let It Snow! Let It Snow!'], ['The Christmas Song'], ['Jingle Bell Rock'], [\"It's the Most Wonderful Time of the Year\"], ['Sleigh Ride'], ['Rudolph the Red-Nosed Reindeer'], [\"It's Beginning to Look a Lot Like Christmas\"], ['White Christmas'], ['A Holly Jolly Christmas'], ['Carol of the Bells'], [\"Rockin' Around the Christmas Tree\"], ['All I Want for Christmas Is You'], ['Frosty the Snowman'], ['Blue Christmas'], [\"(There's No Place Like) Home for the Holidays\"], ['The Little Drummer Boy'], ['Do You Hear What I Hear?'], ['Silver Bells'], [\"Baby, It's Cold Outside\"], ['I Saw Mommy Kissing Santa Claus'], ['Feliz Navidad'], ['Christmas Eve/Sarajevo 12/24'], ['Last Christmas'], ['Here Comes Santa Claus (Right Down Santa Claus Lane)'], ['Santa Baby'], ['Happy Holiday'], ['Wonderful Christmastime']]\n"
     ]
    }
   ],
   "source": [
    "song_names = []\n",
    "rows = soup1.find_all('tr')\n",
    "\n",
    "for row in rows:\n",
    "    columns = row.find_all('td')\n",
    "    if len(columns) > 1:\n",
    "        composer_element = columns[1]\n",
    "        composer_elements = composer_element.find_all('a')\n",
    "        composer_names = [composer.text for composer in composer_elements]\n",
    "        song_names.append(composer_names)\n",
    "\n",
    "# Print the lists\n",
    "print(\"Song:\", song_names)"
   ]
  },
  {
   "cell_type": "code",
   "execution_count": 21,
   "metadata": {},
   "outputs": [
    {
     "name": "stdout",
     "output_type": "stream",
     "text": [
      "Composers: [['J. Fred Coots', 'Haven Gillespie'], ['Ralph Blane', 'Hugh Martin'], ['Felix Bernard', 'Richard B. Smith'], ['Sammy Cahn', 'Jule Styne'], ['Mel Tormé', 'Robert Wells'], [], ['Edward Pola', 'George Wyle'], ['Leroy Anderson', 'Mitchell Parish'], ['Johnny Marks'], ['Meredith Willson'], ['Irving Berlin'], ['Johnny Marks'], ['Peter J. Wilhousky'], ['Johnny Marks'], ['Mariah Carey', 'Walter Afanasieff'], ['Steve Nelson', 'Walter E. Rollins'], [], ['Bob Allen', 'Al Stillman'], ['Katherine K. Davis', 'Harry Simeone'], ['Gloria Shayne Baker', 'Noël Regney'], ['Jay Livingston', 'Ray Evans'], ['Frank Loesser'], ['Tommie Connor'], ['José Feliciano'], ['Jon Oliva', \"Paul O'Neill\", 'Robert Kinkel'], ['George Michael'], ['Gene Autry', 'Oakley Haldeman'], ['Fred Ebb'], ['Irving Berlin'], ['Paul McCartney']]\n"
     ]
    }
   ],
   "source": [
    "composer_lists = []\n",
    "rows = soup1.find_all('tr')\n",
    "\n",
    "for row in rows:\n",
    "    columns = row.find_all('td')\n",
    "    if len(columns) > 2:\n",
    "        composer_element = columns[2]\n",
    "        composer_elements = composer_element.find_all('a')\n",
    "        composer_names = [composer.text for composer in composer_elements]\n",
    "        composer_lists.append(composer_names)\n",
    "\n",
    "# Print the lists\n",
    "print(\"Composers:\", composer_lists)"
   ]
  },
  {
   "cell_type": "code",
   "execution_count": 22,
   "metadata": {},
   "outputs": [],
   "source": [
    "songs1 = pd.DataFrame({\"artist\":composer_lists,\n",
    "                       \"title\":song_names,\n",
    "                      })"
   ]
  },
  {
   "cell_type": "code",
   "execution_count": 23,
   "metadata": {},
   "outputs": [
    {
     "data": {
      "text/html": [
       "<div>\n",
       "<style scoped>\n",
       "    .dataframe tbody tr th:only-of-type {\n",
       "        vertical-align: middle;\n",
       "    }\n",
       "\n",
       "    .dataframe tbody tr th {\n",
       "        vertical-align: top;\n",
       "    }\n",
       "\n",
       "    .dataframe thead th {\n",
       "        text-align: right;\n",
       "    }\n",
       "</style>\n",
       "<table border=\"1\" class=\"dataframe\">\n",
       "  <thead>\n",
       "    <tr style=\"text-align: right;\">\n",
       "      <th></th>\n",
       "      <th>artist</th>\n",
       "      <th>title</th>\n",
       "    </tr>\n",
       "  </thead>\n",
       "  <tbody>\n",
       "    <tr>\n",
       "      <th>0</th>\n",
       "      <td>[J. Fred Coots, Haven Gillespie]</td>\n",
       "      <td>[Santa Claus Is Comin' to Town]</td>\n",
       "    </tr>\n",
       "    <tr>\n",
       "      <th>1</th>\n",
       "      <td>[Ralph Blane, Hugh Martin]</td>\n",
       "      <td>[Have Yourself a Merry Little Christmas]</td>\n",
       "    </tr>\n",
       "    <tr>\n",
       "      <th>2</th>\n",
       "      <td>[Felix Bernard, Richard B. Smith]</td>\n",
       "      <td>[Winter Wonderland]</td>\n",
       "    </tr>\n",
       "    <tr>\n",
       "      <th>3</th>\n",
       "      <td>[Sammy Cahn, Jule Styne]</td>\n",
       "      <td>[Let It Snow! Let It Snow! Let It Snow!]</td>\n",
       "    </tr>\n",
       "    <tr>\n",
       "      <th>4</th>\n",
       "      <td>[Mel Tormé, Robert Wells]</td>\n",
       "      <td>[The Christmas Song]</td>\n",
       "    </tr>\n",
       "    <tr>\n",
       "      <th>5</th>\n",
       "      <td>[]</td>\n",
       "      <td>[Jingle Bell Rock]</td>\n",
       "    </tr>\n",
       "    <tr>\n",
       "      <th>6</th>\n",
       "      <td>[Edward Pola, George Wyle]</td>\n",
       "      <td>[It's the Most Wonderful Time of the Year]</td>\n",
       "    </tr>\n",
       "    <tr>\n",
       "      <th>7</th>\n",
       "      <td>[Leroy Anderson, Mitchell Parish]</td>\n",
       "      <td>[Sleigh Ride]</td>\n",
       "    </tr>\n",
       "    <tr>\n",
       "      <th>8</th>\n",
       "      <td>[Johnny Marks]</td>\n",
       "      <td>[Rudolph the Red-Nosed Reindeer]</td>\n",
       "    </tr>\n",
       "    <tr>\n",
       "      <th>9</th>\n",
       "      <td>[Meredith Willson]</td>\n",
       "      <td>[It's Beginning to Look a Lot Like Christmas]</td>\n",
       "    </tr>\n",
       "    <tr>\n",
       "      <th>10</th>\n",
       "      <td>[Irving Berlin]</td>\n",
       "      <td>[White Christmas]</td>\n",
       "    </tr>\n",
       "    <tr>\n",
       "      <th>11</th>\n",
       "      <td>[Johnny Marks]</td>\n",
       "      <td>[A Holly Jolly Christmas]</td>\n",
       "    </tr>\n",
       "    <tr>\n",
       "      <th>12</th>\n",
       "      <td>[Peter J. Wilhousky]</td>\n",
       "      <td>[Carol of the Bells]</td>\n",
       "    </tr>\n",
       "    <tr>\n",
       "      <th>13</th>\n",
       "      <td>[Johnny Marks]</td>\n",
       "      <td>[Rockin' Around the Christmas Tree]</td>\n",
       "    </tr>\n",
       "    <tr>\n",
       "      <th>14</th>\n",
       "      <td>[Mariah Carey, Walter Afanasieff]</td>\n",
       "      <td>[All I Want for Christmas Is You]</td>\n",
       "    </tr>\n",
       "    <tr>\n",
       "      <th>15</th>\n",
       "      <td>[Steve Nelson, Walter E. Rollins]</td>\n",
       "      <td>[Frosty the Snowman]</td>\n",
       "    </tr>\n",
       "    <tr>\n",
       "      <th>16</th>\n",
       "      <td>[]</td>\n",
       "      <td>[Blue Christmas]</td>\n",
       "    </tr>\n",
       "    <tr>\n",
       "      <th>17</th>\n",
       "      <td>[Bob Allen, Al Stillman]</td>\n",
       "      <td>[(There's No Place Like) Home for the Holidays]</td>\n",
       "    </tr>\n",
       "    <tr>\n",
       "      <th>18</th>\n",
       "      <td>[Katherine K. Davis, Harry Simeone]</td>\n",
       "      <td>[The Little Drummer Boy]</td>\n",
       "    </tr>\n",
       "    <tr>\n",
       "      <th>19</th>\n",
       "      <td>[Gloria Shayne Baker, Noël Regney]</td>\n",
       "      <td>[Do You Hear What I Hear?]</td>\n",
       "    </tr>\n",
       "    <tr>\n",
       "      <th>20</th>\n",
       "      <td>[Jay Livingston, Ray Evans]</td>\n",
       "      <td>[Silver Bells]</td>\n",
       "    </tr>\n",
       "    <tr>\n",
       "      <th>21</th>\n",
       "      <td>[Frank Loesser]</td>\n",
       "      <td>[Baby, It's Cold Outside]</td>\n",
       "    </tr>\n",
       "    <tr>\n",
       "      <th>22</th>\n",
       "      <td>[Tommie Connor]</td>\n",
       "      <td>[I Saw Mommy Kissing Santa Claus]</td>\n",
       "    </tr>\n",
       "    <tr>\n",
       "      <th>23</th>\n",
       "      <td>[José Feliciano]</td>\n",
       "      <td>[Feliz Navidad]</td>\n",
       "    </tr>\n",
       "    <tr>\n",
       "      <th>24</th>\n",
       "      <td>[Jon Oliva, Paul O'Neill, Robert Kinkel]</td>\n",
       "      <td>[Christmas Eve/Sarajevo 12/24]</td>\n",
       "    </tr>\n",
       "    <tr>\n",
       "      <th>25</th>\n",
       "      <td>[George Michael]</td>\n",
       "      <td>[Last Christmas]</td>\n",
       "    </tr>\n",
       "    <tr>\n",
       "      <th>26</th>\n",
       "      <td>[Gene Autry, Oakley Haldeman]</td>\n",
       "      <td>[Here Comes Santa Claus (Right Down Santa Clau...</td>\n",
       "    </tr>\n",
       "    <tr>\n",
       "      <th>27</th>\n",
       "      <td>[Fred Ebb]</td>\n",
       "      <td>[Santa Baby]</td>\n",
       "    </tr>\n",
       "    <tr>\n",
       "      <th>28</th>\n",
       "      <td>[Irving Berlin]</td>\n",
       "      <td>[Happy Holiday]</td>\n",
       "    </tr>\n",
       "    <tr>\n",
       "      <th>29</th>\n",
       "      <td>[Paul McCartney]</td>\n",
       "      <td>[Wonderful Christmastime]</td>\n",
       "    </tr>\n",
       "  </tbody>\n",
       "</table>\n",
       "</div>"
      ],
      "text/plain": [
       "                                      artist  \\\n",
       "0           [J. Fred Coots, Haven Gillespie]   \n",
       "1                 [Ralph Blane, Hugh Martin]   \n",
       "2          [Felix Bernard, Richard B. Smith]   \n",
       "3                   [Sammy Cahn, Jule Styne]   \n",
       "4                  [Mel Tormé, Robert Wells]   \n",
       "5                                         []   \n",
       "6                 [Edward Pola, George Wyle]   \n",
       "7          [Leroy Anderson, Mitchell Parish]   \n",
       "8                             [Johnny Marks]   \n",
       "9                         [Meredith Willson]   \n",
       "10                           [Irving Berlin]   \n",
       "11                            [Johnny Marks]   \n",
       "12                      [Peter J. Wilhousky]   \n",
       "13                            [Johnny Marks]   \n",
       "14         [Mariah Carey, Walter Afanasieff]   \n",
       "15         [Steve Nelson, Walter E. Rollins]   \n",
       "16                                        []   \n",
       "17                  [Bob Allen, Al Stillman]   \n",
       "18       [Katherine K. Davis, Harry Simeone]   \n",
       "19        [Gloria Shayne Baker, Noël Regney]   \n",
       "20               [Jay Livingston, Ray Evans]   \n",
       "21                           [Frank Loesser]   \n",
       "22                           [Tommie Connor]   \n",
       "23                          [José Feliciano]   \n",
       "24  [Jon Oliva, Paul O'Neill, Robert Kinkel]   \n",
       "25                          [George Michael]   \n",
       "26             [Gene Autry, Oakley Haldeman]   \n",
       "27                                [Fred Ebb]   \n",
       "28                           [Irving Berlin]   \n",
       "29                          [Paul McCartney]   \n",
       "\n",
       "                                                title  \n",
       "0                     [Santa Claus Is Comin' to Town]  \n",
       "1            [Have Yourself a Merry Little Christmas]  \n",
       "2                                 [Winter Wonderland]  \n",
       "3            [Let It Snow! Let It Snow! Let It Snow!]  \n",
       "4                                [The Christmas Song]  \n",
       "5                                  [Jingle Bell Rock]  \n",
       "6          [It's the Most Wonderful Time of the Year]  \n",
       "7                                       [Sleigh Ride]  \n",
       "8                    [Rudolph the Red-Nosed Reindeer]  \n",
       "9       [It's Beginning to Look a Lot Like Christmas]  \n",
       "10                                  [White Christmas]  \n",
       "11                          [A Holly Jolly Christmas]  \n",
       "12                               [Carol of the Bells]  \n",
       "13                [Rockin' Around the Christmas Tree]  \n",
       "14                  [All I Want for Christmas Is You]  \n",
       "15                               [Frosty the Snowman]  \n",
       "16                                   [Blue Christmas]  \n",
       "17    [(There's No Place Like) Home for the Holidays]  \n",
       "18                           [The Little Drummer Boy]  \n",
       "19                         [Do You Hear What I Hear?]  \n",
       "20                                     [Silver Bells]  \n",
       "21                          [Baby, It's Cold Outside]  \n",
       "22                  [I Saw Mommy Kissing Santa Claus]  \n",
       "23                                    [Feliz Navidad]  \n",
       "24                     [Christmas Eve/Sarajevo 12/24]  \n",
       "25                                   [Last Christmas]  \n",
       "26  [Here Comes Santa Claus (Right Down Santa Clau...  \n",
       "27                                       [Santa Baby]  \n",
       "28                                    [Happy Holiday]  \n",
       "29                          [Wonderful Christmastime]  "
      ]
     },
     "execution_count": 23,
     "metadata": {},
     "output_type": "execute_result"
    }
   ],
   "source": [
    "songs1"
   ]
  }
 ],
 "metadata": {
  "kernelspec": {
   "display_name": "Python 3 (ipykernel)",
   "language": "python",
   "name": "python3"
  },
  "language_info": {
   "codemirror_mode": {
    "name": "ipython",
    "version": 3
   },
   "file_extension": ".py",
   "mimetype": "text/x-python",
   "name": "python",
   "nbconvert_exporter": "python",
   "pygments_lexer": "ipython3",
   "version": "3.11.4"
  },
  "orig_nbformat": 4
 },
 "nbformat": 4,
 "nbformat_minor": 2
}
